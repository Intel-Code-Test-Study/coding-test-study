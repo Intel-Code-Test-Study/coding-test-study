{
 "cells": [
  {
   "cell_type": "markdown",
   "metadata": {},
   "source": [
    "사용자로부터 두 정수를 입력 받고,\n",
    "두 정수 사이에 존재하는 모든 소수를 찾고,\n",
    "찾은 소수들을 모두 더한 수가 짝수이면, A로 출력하고, 홀수이면 B이어야 합니다.\n",
    "\n",
    "만일 입력한 두 수에 소수가 존재하지 않으면 C를 출력해야 합니다.\n",
    "\n",
    "또한, 입력한 두 수의 순서가 작은 수, 큰 수로 이어지지 않을 수 있습니다.\n",
    "\n",
    "만약 입력한 두 수가 3자리 이하의 정수가 아니면, 다시 입력하라는 메시지를 출력하는 프로그램을 구현합니다."
   ]
  },
  {
   "cell_type": "code",
   "execution_count": 1,
   "metadata": {},
   "outputs": [
    {
     "name": "stdout",
     "output_type": "stream",
     "text": [
      "A\n"
     ]
    }
   ],
   "source": [
    "def is_prime(number):\n",
    "    # for i in range(2, n): X\n",
    "    for i in range(2, number+1):\n",
    "        if number+1 % i == 0:\n",
    "            return False\n",
    "    return True\n",
    "\n",
    "first_number = int(input(\"첫번째 숫자를 입력하라\"))\n",
    "second_number = int(input(\"두번째 숫자를 입력하라\"))\n",
    "prime_list = []\n",
    "\n",
    "# if (first_number or second_number >= 100) or (first_number or second_number <= 0): X\n",
    "if first_number >= 100 or second_number >= 100 or first_number <= 0 or second_number <= 0:\n",
    "    print(\"0<숫자<100로 다시 입력하라\")\n",
    "    # sys.exit() X\n",
    "\n",
    "elif first_number == second_number:\n",
    "    print(\"서로 다른 두 수를 입력하라\")\n",
    "\n",
    "elif first_number - second_number == 1 or second_number - first_number == 1:\n",
    "    print(\"두 수 사이에 수가 없다\")\n",
    "\n",
    "else:\n",
    "    if first_number > first_number:\n",
    "        for i in range(second_number, first_number+1):\n",
    "            if is_prime(i):\n",
    "                prime_list.append(i)\n",
    "    else:\n",
    "        for i in range(first_number, second_number+1):\n",
    "            if is_prime(i):\n",
    "                prime_list.append(i)\n",
    "\n",
    "    sum_prime = sum(prime_list)\n",
    "    if sum_prime == 0:\n",
    "        print(\"C\")\n",
    "    elif sum_prime % 2 == 0:\n",
    "        print(\"A\")\n",
    "    else:\n",
    "        print(\"B\")\n",
    "\n"
   ]
  },
  {
   "cell_type": "markdown",
   "metadata": {},
   "source": [
    "filter_list([1,2,'a','b']) == [1,2]\n",
    "filter_list([1,'a','b',0,15]) == [1,0,15]\n",
    "filter_list([1,2,'aasf','1','123',123]) == [1,2,123]\n",
    "\n",
    "이렇게 만들어라"
   ]
  },
  {
   "cell_type": "code",
   "execution_count": null,
   "metadata": {},
   "outputs": [],
   "source": [
    "# # 잘못된 코드\n",
    "# output_list = []\n",
    "\n",
    "# def rsad(filter_list):\n",
    "#     for i in range(len(filter_list)):\n",
    "#         if type(i) == 'int':\n",
    "#             output_list.append(i)\n",
    "\n",
    "# filter_list = list(input())\n",
    "# print(output_list)"
   ]
  },
  {
   "cell_type": "code",
   "execution_count": null,
   "metadata": {},
   "outputs": [],
   "source": [
    "# test_list = [1, 'a', 2, 'b']\n",
    "\n",
    "# # 방법 1: range(len())을 사용할 경우\n",
    "# for i in range(len(test_list)):  # i는 0,1,2,3\n",
    "#     print(f\"i = {i}\")\n",
    "\n",
    "# print(\"---\")\n",
    "\n",
    "# # 방법 2: 리스트를 직접 순회할 경우\n",
    "# for i in test_list:  # i는 1,'a',2,'b'\n",
    "#     print(f\"i = {i}\")"
   ]
  },
  {
   "cell_type": "code",
   "execution_count": 14,
   "metadata": {},
   "outputs": [
    {
     "name": "stdout",
     "output_type": "stream",
     "text": [
      "[1, 2]\n"
     ]
    }
   ],
   "source": [
    "def filtering(filtered_list):\n",
    "    output_list = []\n",
    "    for i in filtered_list:\n",
    "        try:\n",
    "            num = int(i)  # 문자열을 정수로 변환 시도\n",
    "            output_list.append(num)\n",
    "        except ValueError:  # 문자는 변환 실패\n",
    "            continue\n",
    "    return output_list\n",
    "\n",
    "filtered_list = list(input())  # \"12ab\" -> ['1', '2', 'a', 'b']\n",
    "result = filtering(filtered_list)  # -> [1, 2]\n",
    "print(result)"
   ]
  }
 ],
 "metadata": {
  "kernelspec": {
   "display_name": "base",
   "language": "python",
   "name": "python3"
  },
  "language_info": {
   "codemirror_mode": {
    "name": "ipython",
    "version": 3
   },
   "file_extension": ".py",
   "mimetype": "text/x-python",
   "name": "python",
   "nbconvert_exporter": "python",
   "pygments_lexer": "ipython3",
   "version": "3.10.13"
  }
 },
 "nbformat": 4,
 "nbformat_minor": 2
}
